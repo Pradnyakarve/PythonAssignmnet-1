{
 "cells": [
  {
   "cell_type": "code",
   "execution_count": 38,
   "metadata": {},
   "outputs": [
    {
     "name": "stdout",
     "output_type": "stream",
     "text": [
      "     total_bill   tip     sex smoker   day    time  size\n",
      "0         16.99  1.01  Female     No   Sun  Dinner     2\n",
      "1         10.34  1.66    Male     No   Sun  Dinner     3\n",
      "2         21.01  3.50    Male     No   Sun  Dinner     3\n",
      "3         23.68  3.31    Male     No   Sun  Dinner     2\n",
      "4         24.59  3.61  Female     No   Sun  Dinner     4\n",
      "..          ...   ...     ...    ...   ...     ...   ...\n",
      "239       29.03  5.92    Male     No   Sat  Dinner     3\n",
      "240       27.18  2.00  Female    Yes   Sat  Dinner     2\n",
      "241       22.67  2.00    Male    Yes   Sat  Dinner     2\n",
      "242       17.82  1.75    Male     No   Sat  Dinner     2\n",
      "243       18.78  3.00  Female     No  Thur  Dinner     2\n",
      "\n",
      "[244 rows x 7 columns]\n",
      "Index(['total_bill', 'tip', 'sex', 'smoker', 'day', 'time', 'size'], dtype='object')\n",
      " Average i.e. mean of column tip\n"
     ]
    },
    {
     "data": {
      "text/plain": [
       "2.9982786885245902"
      ]
     },
     "execution_count": 38,
     "metadata": {},
     "output_type": "execute_result"
    }
   ],
   "source": [
    "import pandas as pd   #importing pandas \n",
    "\n",
    "import numpy as np    #importing numpy\n",
    "\n",
    "\n",
    "url = 'https://docs.google.com/spreadsheets/d/e/2PACX-1vTPqLOTtWjWnbPtQdTUq-CrGRnxiWRJ-Pfz2VAt8hxzPzS9E_plqoY6RbGXk8upHa2N6CM9RHkuq0N7/pub?output=xlsx'\n",
    "\n",
    "df1 = pd.read_excel(url)   # reading the excel file\n",
    "\n",
    "print(df1)\n",
    "\n",
    "print(df1.columns)\n",
    "\n",
    "#  Average tip\n",
    "\n",
    "print(\" Average i.e. mean of column tip\")\n",
    "df1.tip.mean()\n"
   ]
  },
  {
   "cell_type": "code",
   "execution_count": 6,
   "metadata": {},
   "outputs": [
    {
     "name": "stdout",
     "output_type": "stream",
     "text": [
      " mean of column tip :  2.9982786885245902\n",
      " median of column tip :  2.9\n"
     ]
    }
   ],
   "source": [
    "#Get a numberical value for tip  are the mean (Average) and median (Middle value) very different ? what does this field tell you about\n",
    "\n",
    "tip_mean=df1.tip.mean()\n",
    "tip_median = df1.tip.median()\n",
    "\n",
    "print(\" mean of column tip : \" ,tip_mean)\n",
    "print(\" median of column tip : \",tip_median)\n",
    "\n"
   ]
  },
  {
   "cell_type": "markdown",
   "metadata": {},
   "source": [
    "From the above Observation we know that the mean and median is same for column tip\n",
    "\n",
    "from mean - we get to know that the Average tip a waiter or the person is getting\n",
    "\n",
    "from median - we get to know the middle value \n"
   ]
  },
  {
   "cell_type": "code",
   "execution_count": 8,
   "metadata": {},
   "outputs": [
    {
     "data": {
      "image/png": "[encoded data removed]",
      "text/plain": [
       "<Figure size 432x288 with 1 Axes>"
      ]
     },
     "metadata": {
      "needs_background": "light"
     },
     "output_type": "display_data"
    }
   ],
   "source": [
    "#Box Plot for  Total Bill\n",
    "\n",
    "import matplotlib.pyplot as plt\n",
    "plt.boxplot(df1['tip'])\n",
    "plt.title(\"Box Plot for Total Bill \")\n",
    "plt.ylabel(\"price in $\")\n",
    "plt.show()\n",
    " \n"
   ]
  },
  {
   "cell_type": "markdown",
   "metadata": {},
   "source": [
    "As per above observation we see outliers\n"
   ]
  },
  {
   "cell_type": "code",
   "execution_count": 11,
   "metadata": {},
   "outputs": [
    {
     "data": {
      "text/plain": [
       "Male      64.344262\n",
       "Female    35.655738\n",
       "Name: sex, dtype: float64"
      ]
     },
     "execution_count": 11,
     "metadata": {},
     "output_type": "execute_result"
    }
   ],
   "source": [
    "# percentage of females \n",
    "df1.sex.value_counts(normalize=True) * 100\n"
   ]
  },
  {
   "cell_type": "raw",
   "metadata": {},
   "source": [
    "There are 35.665 % females "
   ]
  },
  {
   "cell_type": "code",
   "execution_count": 12,
   "metadata": {},
   "outputs": [
    {
     "name": "stdout",
     "output_type": "stream",
     "text": [
      "sex\n",
      "Female    246.51\n",
      "Male      485.07\n",
      "Name: tip, dtype: float64\n",
      "Yes, Male Gives more tip than Female\n"
     ]
    }
   ],
   "source": [
    "#  Average tip  by Gender \n",
    "\n",
    "print(df1.groupby('sex')['tip'].sum())\n"
   ]
  },
  {
   "cell_type": "markdown",
   "metadata": {},
   "source": [
    "Yes, Male Gives more tip than Female"
   ]
  },
  {
   "cell_type": "code",
   "execution_count": 13,
   "metadata": {},
   "outputs": [
    {
     "name": "stdout",
     "output_type": "stream",
     "text": [
      "Male      157\n",
      "Female     87\n",
      "Name: sex, dtype: int64\n"
     ]
    },
    {
     "data": {
      "text/plain": [
       "Text(0.5, 0, 'Gender')"
      ]
     },
     "execution_count": 13,
     "metadata": {},
     "output_type": "execute_result"
    },
    {
     "data": {
      "image/png": "[encoded data removed]",
      "text/plain": [
       "<Figure size 432x288 with 1 Axes>"
      ]
     },
     "metadata": {
      "needs_background": "light"
     },
     "output_type": "display_data"
    }
   ],
   "source": [
    "# bar plot for percentage of records for each gender\n",
    "\n",
    "Gender=df1['sex'].value_counts()\n",
    "print(Gender)\n",
    "df1['sex'].value_counts().plot(kind=\"bar\")\n",
    "plt.title(\"Number of male and female in resturant\")\n",
    "plt.xlabel(\"Gender\")"
   ]
  },
  {
   "cell_type": "code",
   "execution_count": 18,
   "metadata": {},
   "outputs": [
    {
     "name": "stdout",
     "output_type": "stream",
     "text": [
      "time\n",
      "Dinner    546.07\n",
      "Lunch     185.51\n",
      "Name: tip, dtype: float64\n"
     ]
    }
   ],
   "source": [
    "Tip_based_on_Time=df1.groupby('time')['tip'].sum()\n",
    "print(Tip_based_on_Time)\n"
   ]
  },
  {
   "cell_type": "markdown",
   "metadata": {},
   "source": [
    " people pay more tip during Dinner time as compared to lunch\n"
   ]
  },
  {
   "cell_type": "code",
   "execution_count": 17,
   "metadata": {},
   "outputs": [
    {
     "name": "stdout",
     "output_type": "stream",
     "text": [
      "size\n",
      "1      5.75\n",
      "2    402.84\n",
      "3    128.94\n",
      "4    153.01\n",
      "5     20.14\n",
      "6     20.90\n",
      "Name: tip, dtype: float64\n"
     ]
    }
   ],
   "source": [
    "Tip_Based_on_Size=df1.groupby('size')['tip'].sum()\n",
    "print(Tip_Based_on_Size)\n"
   ]
  },
  {
   "cell_type": "markdown",
   "metadata": {},
   "source": [
    " Yes, Tip differ by size "
   ]
  },
  {
   "cell_type": "code",
   "execution_count": 20,
   "metadata": {},
   "outputs": [
    {
     "name": "stdout",
     "output_type": "stream",
     "text": [
      "smoker\n",
      "No     451.77\n",
      "Yes    279.81\n",
      "Name: tip, dtype: float64\n"
     ]
    }
   ],
   "source": [
    "Tips_Smokers=df1.groupby('smoker')['tip'].sum()\n",
    "print(Tips_Smokers)\n"
   ]
  },
  {
   "cell_type": "markdown",
   "metadata": {},
   "source": [
    " Non Smoker pays more tips than smoker"
   ]
  },
  {
   "cell_type": "code",
   "execution_count": 22,
   "metadata": {},
   "outputs": [
    {
     "data": {
      "image/png": "[encoded data removed]",
      "text/plain": [
       "<Figure size 432x288 with 1 Axes>"
      ]
     },
     "metadata": {
      "needs_background": "light"
     },
     "output_type": "display_data"
    }
   ],
   "source": [
    "# Gender VS Smoker/NonSmoker and tip size\n",
    "df1.groupby(['smoker','sex'])['tip'].sum().plot(kind=\"bar\");"
   ]
  },
  {
   "cell_type": "code",
   "execution_count": 25,
   "metadata": {},
   "outputs": [
    {
     "name": "stdout",
     "output_type": "stream",
     "text": [
      "0       5.944673\n",
      "1      16.054159\n",
      "2      16.658734\n",
      "3      13.978041\n",
      "4      14.680765\n",
      "         ...    \n",
      "239    20.392697\n",
      "240     7.358352\n",
      "241     8.822232\n",
      "242     9.820426\n",
      "243    15.974441\n",
      "Length: 244, dtype: float64\n"
     ]
    }
   ],
   "source": [
    "percent_tip=(df1['tip']/df1['total_bill'])*100\n",
    "print(percent_tip)"
   ]
  },
  {
   "cell_type": "code",
   "execution_count": 27,
   "metadata": {},
   "outputs": [
    {
     "name": "stdout",
     "output_type": "stream",
     "text": [
      "sex\n",
      "Female    1448.469406\n",
      "Male      2475.113588\n",
      "Name: pct_tip, dtype: float64\n"
     ]
    }
   ],
   "source": [
    "percent_tip_gender=df1.groupby('sex')['pct_tip'].sum()\n",
    "print(percent_tip_gender)\n"
   ]
  },
  {
   "cell_type": "markdown",
   "metadata": {},
   "source": [
    " Yes percentage of tip differ by gender"
   ]
  },
  {
   "cell_type": "code",
   "execution_count": 29,
   "metadata": {},
   "outputs": [
    {
     "data": {
      "image/png": "[encoded data removed]",
      "text/plain": [
       "<Figure size 432x288 with 1 Axes>"
      ]
     },
     "metadata": {
      "needs_background": "light"
     },
     "output_type": "display_data"
    }
   ],
   "source": [
    "df1.groupby(['sex','smoker'])['pct_tip'].sum().plot(kind=\"bar\");\n"
   ]
  },
  {
   "cell_type": "markdown",
   "metadata": {},
   "source": [
    " No, % is just a percentage of tip it is same as that of tip but only in percentage"
   ]
  },
  {
   "cell_type": "code",
   "execution_count": 33,
   "metadata": {},
   "outputs": [
    {
     "data": {
      "image/png": "[encoded data removed]",
      "text/plain": [
       "<Figure size 432x288 with 1 Axes>"
      ]
     },
     "metadata": {
      "needs_background": "light"
     },
     "output_type": "display_data"
    }
   ],
   "source": [
    " #Scatter plot of total_bil vs Tip\n",
    "plt.scatter(df1['total_bill'],df1['tip'],c='g');\n",
    " "
   ]
  },
  {
   "cell_type": "code",
   "execution_count": 34,
   "metadata": {},
   "outputs": [
    {
     "name": "stdout",
     "output_type": "stream",
     "text": [
      "total_bill  tip  \n",
      "3.07        1.00     1\n",
      "5.75        1.00     1\n",
      "7.25        1.00     1\n",
      "            5.15     1\n",
      "7.51        2.00     1\n",
      "                    ..\n",
      "45.35       3.50     1\n",
      "48.17       5.00     1\n",
      "48.27       6.73     1\n",
      "48.33       9.00     1\n",
      "50.81       10.00    1\n",
      "Name: tip, Length: 242, dtype: int64\n"
     ]
    }
   ],
   "source": [
    "print(df1.groupby('total_bill')['tip'].value_counts())"
   ]
  },
  {
   "cell_type": "code",
   "execution_count": 36,
   "metadata": {},
   "outputs": [
    {
     "name": "stdout",
     "output_type": "stream",
     "text": [
      "total_bill  pct_tip  \n",
      "3.07        32.573290    1\n",
      "5.75        17.391304    1\n",
      "7.25        13.793103    1\n",
      "            71.034483    1\n",
      "7.51        26.631158    1\n",
      "                        ..\n",
      "45.35       7.717751     1\n",
      "48.17       10.379905    1\n",
      "48.27       13.942407    1\n",
      "48.33       18.621974    1\n",
      "50.81       19.681165    1\n",
      "Name: pct_tip, Length: 242, dtype: int64\n"
     ]
    },
    {
     "data": {
      "image/png": "[encoded data removed]",
      "text/plain": [
       "<Figure size 432x288 with 1 Axes>"
      ]
     },
     "metadata": {
      "needs_background": "light"
     },
     "output_type": "display_data"
    }
   ],
   "source": [
    "# scattter plot of total bill vs Percent_tip\n",
    "plt.scatter(df1['total_bill'],df1['pct_tip'],c='b')\n",
    "print(df1.groupby('total_bill')['pct_tip'].value_counts())"
   ]
  },
  {
   "cell_type": "code",
   "execution_count": null,
   "metadata": {},
   "outputs": [],
   "source": []
  }
 ],
 "metadata": {
  "kernelspec": {
   "display_name": "Python 3",
   "language": "python",
   "name": "python3"
  },
  "language_info": {
   "codemirror_mode": {
    "name": "ipython",
    "version": 3
   },
   "file_extension": ".py",
   "mimetype": "text/x-python",
   "name": "python",
   "nbconvert_exporter": "python",
   "pygments_lexer": "ipython3",
   "version": "3.7.6"
  }
 },
 "nbformat": 4,
 "nbformat_minor": 4
}
